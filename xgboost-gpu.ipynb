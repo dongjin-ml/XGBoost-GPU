{
 "cells": [
  {
   "cell_type": "markdown",
   "id": "20bda5fd-e7c1-4eab-9df4-a6784ba471a1",
   "metadata": {},
   "source": [
    "## Package Install"
   ]
  },
  {
   "cell_type": "code",
   "execution_count": 6,
   "id": "4fa2871d-bf34-462d-aa2a-8d0b8cd4ed46",
   "metadata": {
    "tags": []
   },
   "outputs": [
    {
     "name": "stdout",
     "output_type": "stream",
     "text": [
      "Looking in indexes: https://pypi.org/simple, https://pip.repos.neuron.amazonaws.com\n",
      "Requirement already satisfied: xgboost in /home/ec2-user/anaconda3/envs/python3/lib/python3.10/site-packages (1.7.4)\n",
      "Requirement already satisfied: numpy in /home/ec2-user/anaconda3/envs/python3/lib/python3.10/site-packages (from xgboost) (1.22.3)\n",
      "Requirement already satisfied: scipy in /home/ec2-user/anaconda3/envs/python3/lib/python3.10/site-packages (from xgboost) (1.10.0)\n",
      "Looking in indexes: https://pypi.org/simple, https://pip.repos.neuron.amazonaws.com\n",
      "Requirement already satisfied: sklearn in /home/ec2-user/anaconda3/envs/python3/lib/python3.10/site-packages (0.0.post1)\n"
     ]
    }
   ],
   "source": [
    "! pip install xgboost\n",
    "! pip install sklearn"
   ]
  },
  {
   "cell_type": "markdown",
   "id": "79984292-2fd6-4a6e-a5c6-4e1e096844a5",
   "metadata": {},
   "source": [
    "## Dataset generation "
   ]
  },
  {
   "cell_type": "code",
   "execution_count": 93,
   "id": "8fa6fc67-2130-4196-8e1b-090520adb9d7",
   "metadata": {
    "tags": []
   },
   "outputs": [],
   "source": [
    "from sklearn.datasets import make_classification"
   ]
  },
  {
   "cell_type": "code",
   "execution_count": 96,
   "id": "ce1027bd-5db8-45eb-b39a-df4933e2fb8f",
   "metadata": {
    "tags": []
   },
   "outputs": [],
   "source": [
    "X, Y = make_classification(\n",
    "    n_features=1000,\n",
    "    n_informative=10,\n",
    "    n_redundant=0,\n",
    "    n_clusters_per_class=1,\n",
    "    random_state=4,\n",
    "    n_samples=100000\n",
    ")\n",
    "X_train, X_test, y_train, y_test = train_test_split(X, Y, test_size=test_size, random_state=seed)"
   ]
  },
  {
   "cell_type": "code",
   "execution_count": 97,
   "id": "765afcab-4576-438d-a280-2475c2729d90",
   "metadata": {
    "tags": []
   },
   "outputs": [],
   "source": [
    "from xgboost import XGBClassifier\n",
    "from sklearn.model_selection import train_test_split\n",
    "from sklearn.metrics import accuracy_score"
   ]
  },
  {
   "cell_type": "markdown",
   "id": "3b2a4a36-5d32-42ab-b6b9-e7f032cfc98b",
   "metadata": {},
   "source": [
    "## Training"
   ]
  },
  {
   "cell_type": "markdown",
   "id": "fcd61fd3-6246-408e-81e4-f303ad6fde10",
   "metadata": {},
   "source": [
    "* GPU based"
   ]
  },
  {
   "cell_type": "code",
   "execution_count": 98,
   "id": "9763933a-f09c-4e5f-81d5-1c7c46be5365",
   "metadata": {
    "tags": []
   },
   "outputs": [
    {
     "name": "stdout",
     "output_type": "stream",
     "text": [
      "Accuracy: 98.28%\n",
      "CPU times: user 29.3 s, sys: 973 ms, total: 30.3 s\n",
      "Wall time: 8.19 s\n"
     ]
    }
   ],
   "source": [
    "%%time\n",
    "# fit model no training data\n",
    "model = XGBClassifier(\n",
    "    n_estimators=100,\n",
    "    learning_rate=0.05,\n",
    "    gamma=0,\n",
    "    subsample=0.75,\n",
    "    colsample_bytree=1,\n",
    "    max_depth=7,\n",
    "    tree_method='gpu_hist', ## For GPU\n",
    "    gpu_id=0 ## For GPU\n",
    ")\n",
    "model.fit(X_train, y_train)\n",
    "# make predictions for test data\n",
    "y_pred = model.predict(X_test)\n",
    "predictions = [round(value) for value in y_pred]\n",
    "# evaluate predictions\n",
    "accuracy = accuracy_score(y_test, predictions)\n",
    "print(\"Accuracy: %.2f%%\" % (accuracy * 100.0))"
   ]
  },
  {
   "cell_type": "markdown",
   "id": "d687c919-d925-41b5-adc1-f2f1ae95a249",
   "metadata": {
    "tags": []
   },
   "source": [
    "* CPU based"
   ]
  },
  {
   "cell_type": "code",
   "execution_count": null,
   "id": "61279faa-92f1-4a63-8648-9f002cd72f98",
   "metadata": {
    "tags": []
   },
   "outputs": [],
   "source": [
    "%%time\n",
    "# fit model no training data\n",
    "model = XGBClassifier(\n",
    "    n_estimators=100,\n",
    "    learning_rate=0.05,\n",
    "    gamma=0,\n",
    "    subsample=0.75,\n",
    "    colsample_bytree=1,\n",
    "    max_depth=7,\n",
    "    #tree_method='gpu_hist', ## For GPU\n",
    "    #gpu_id=0 ## For GPU\n",
    ")\n",
    "model.fit(X_train, y_train)\n",
    "# make predictions for test data\n",
    "y_pred = model.predict(X_test)\n",
    "predictions = [round(value) for value in y_pred]\n",
    "# evaluate predictions\n",
    "accuracy = accuracy_score(y_test, predictions)\n",
    "print(\"Accuracy: %.2f%%\" % (accuracy * 100.0))"
   ]
  },
  {
   "cell_type": "code",
   "execution_count": null,
   "id": "c0500398-06bd-4a9a-9034-d13e936e93d1",
   "metadata": {},
   "outputs": [],
   "source": []
  }
 ],
 "metadata": {
  "kernelspec": {
   "display_name": "conda_python3",
   "language": "python",
   "name": "conda_python3"
  },
  "language_info": {
   "codemirror_mode": {
    "name": "ipython",
    "version": 3
   },
   "file_extension": ".py",
   "mimetype": "text/x-python",
   "name": "python",
   "nbconvert_exporter": "python",
   "pygments_lexer": "ipython3",
   "version": "3.10.8"
  }
 },
 "nbformat": 4,
 "nbformat_minor": 5
}
