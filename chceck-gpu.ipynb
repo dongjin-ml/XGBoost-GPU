{
 "cells": [
  {
   "cell_type": "code",
   "execution_count": 1,
   "id": "71729f55-7d50-4844-9672-68e5c6113715",
   "metadata": {
    "tags": []
   },
   "outputs": [],
   "source": [
    "import torch"
   ]
  },
  {
   "cell_type": "code",
   "execution_count": 2,
   "id": "ffcc005b-db67-4340-8e6e-d6b711de96f8",
   "metadata": {
    "collapsed": true,
    "jupyter": {
     "outputs_hidden": true
    },
    "tags": []
   },
   "outputs": [
    {
     "name": "stdout",
     "output_type": "stream",
     "text": [
      "# conda environments:\n",
      "#\n",
      "base                     /home/ec2-user/anaconda3\n",
      "JupyterSystemEnv         /home/ec2-user/anaconda3/envs/JupyterSystemEnv\n",
      "R                        /home/ec2-user/anaconda3/envs/R\n",
      "amazonei_pytorch_latest_p37     /home/ec2-user/anaconda3/envs/amazonei_pytorch_latest_p37\n",
      "mxnet_p38                /home/ec2-user/anaconda3/envs/mxnet_p38\n",
      "python3                  /home/ec2-user/anaconda3/envs/python3\n",
      "pytorch_p39           *  /home/ec2-user/anaconda3/envs/pytorch_p39\n",
      "tensorflow2_p310         /home/ec2-user/anaconda3/envs/tensorflow2_p310\n",
      "\n",
      "/bin/sh: -c: line 0: syntax error near unexpected token `newline'\n",
      "/bin/sh: -c: line 0: ` source activate <name>'\n",
      "/bin/sh: -c: line 0: syntax error near unexpected token `newline'\n",
      "/bin/sh: -c: line 0: ` source deactivate <name>'\n"
     ]
    }
   ],
   "source": [
    "! conda env list\n",
    "! source activate <name>\n",
    "! source deactivate <name>"
   ]
  },
  {
   "cell_type": "code",
   "execution_count": 3,
   "id": "f202989f-763c-474c-b95d-0253bdbe61b3",
   "metadata": {
    "tags": []
   },
   "outputs": [
    {
     "name": "stdout",
     "output_type": "stream",
     "text": [
      "nvcc: NVIDIA (R) Cuda compiler driver\n",
      "Copyright (c) 2005-2022 NVIDIA Corporation\n",
      "Built on Wed_Jun__8_16:49:14_PDT_2022\n",
      "Cuda compilation tools, release 11.7, V11.7.99\n",
      "Build cuda_11.7.r11.7/compiler.31442593_0\n"
     ]
    }
   ],
   "source": [
    "! nvcc --version"
   ]
  },
  {
   "cell_type": "code",
   "execution_count": 4,
   "id": "30e1a06d-6c25-450c-999e-2249ebc6a4fc",
   "metadata": {
    "tags": []
   },
   "outputs": [
    {
     "data": {
      "text/plain": [
       "'763104351884.dkr.ecr.ap-northeast-2.amazonaws.com/pytorch-training'"
      ]
     },
     "execution_count": 4,
     "metadata": {},
     "output_type": "execute_result"
    }
   ],
   "source": [
    "import boto3\n",
    "region = boto3.Session().region_name\n",
    "image_uri = \"763104351884.dkr.ecr.{}.amazonaws.com/pytorch-training\".format(region)\n",
    "image_uri"
   ]
  },
  {
   "cell_type": "code",
   "execution_count": 5,
   "id": "4c21d3c8-db9f-4fa9-a0da-51f6120a8ce8",
   "metadata": {
    "tags": []
   },
   "outputs": [
    {
     "name": "stdout",
     "output_type": "stream",
     "text": [
      "True\n",
      "1\n",
      "0\n",
      "cuda\n"
     ]
    }
   ],
   "source": [
    "print (torch.cuda.is_available())\n",
    "print (torch.cuda.device_count())\n",
    "print (torch.cuda.current_device())\n",
    "device = torch.device(\"cuda:0\" if torch.cuda.is_available() else \"cpu\")\n",
    "print (device.type)"
   ]
  },
  {
   "cell_type": "code",
   "execution_count": 6,
   "id": "604ca9f4-eb61-4ba7-ad2e-94c7a838ba52",
   "metadata": {
    "tags": []
   },
   "outputs": [],
   "source": [
    "import os"
   ]
  },
  {
   "cell_type": "code",
   "execution_count": 19,
   "id": "e4e4c748-fa48-472c-a9fb-1910c3e2089d",
   "metadata": {
    "tags": []
   },
   "outputs": [],
   "source": [
    "os.environ[\"CUDA_DEVICE_ORDER\"]=\"PCI_BUS_ID\"\n",
    "os.environ[\"CUDA_VISIBLE_DEVICES\"]= \"0, 1\""
   ]
  },
  {
   "cell_type": "code",
   "execution_count": 21,
   "id": "118c4aff-bd83-4194-abf6-185ff74e2de1",
   "metadata": {
    "tags": []
   },
   "outputs": [
    {
     "name": "stdout",
     "output_type": "stream",
     "text": [
      "tensor([[-0.3544,  2.8961, -0.4621,  ..., -1.9107,  1.4183,  0.2584],\n",
      "        [ 1.2220,  1.1107, -0.4341,  ...,  0.7482, -0.4176, -0.9539],\n",
      "        [ 0.9947, -0.3699, -1.6086,  ...,  0.1043,  0.8148, -0.1422],\n",
      "        ...,\n",
      "        [-0.2547,  0.6305, -1.2029,  ..., -0.5115, -2.7221, -0.0522],\n",
      "        [-0.2941, -0.1278,  0.2114,  ..., -0.5410, -2.1334, -0.2985],\n",
      "        [ 1.8878,  0.4411,  0.7302,  ...,  0.8559,  2.6896, -0.9066]])\n",
      "tensor([[-0.2035,  0.4134,  0.4755,  ..., -0.6031, -0.4613,  1.2219],\n",
      "        [-1.6342,  0.2688, -0.5347,  ...,  0.1952, -0.3630, -0.8671],\n",
      "        [-0.5760,  0.9896,  0.4382,  ...,  0.5892,  0.2498, -1.6362],\n",
      "        ...,\n",
      "        [ 0.6148,  0.0661, -1.6801,  ..., -0.4993, -1.1065, -1.0850],\n",
      "        [ 1.1199,  0.1531, -1.8302,  ..., -0.5935, -1.1736,  0.4272],\n",
      "        [-0.1980,  0.3656,  0.2120,  ...,  2.0770,  0.7935, -0.3178]],\n",
      "       device='cuda:0')\n",
      "tensor([[-0.3544,  2.8961, -0.4621,  ..., -1.9107,  1.4183,  0.2584],\n",
      "        [ 1.2220,  1.1107, -0.4341,  ...,  0.7482, -0.4176, -0.9539],\n",
      "        [ 0.9947, -0.3699, -1.6086,  ...,  0.1043,  0.8148, -0.1422],\n",
      "        ...,\n",
      "        [-0.2547,  0.6305, -1.2029,  ..., -0.5115, -2.7221, -0.0522],\n",
      "        [-0.2941, -0.1278,  0.2114,  ..., -0.5410, -2.1334, -0.2985],\n",
      "        [ 1.8878,  0.4411,  0.7302,  ...,  0.8559,  2.6896, -0.9066]])\n",
      "False\n",
      "tensor([[-0.3544,  2.8961, -0.4621,  ..., -1.9107,  1.4183,  0.2584],\n",
      "        [ 1.2220,  1.1107, -0.4341,  ...,  0.7482, -0.4176, -0.9539],\n",
      "        [ 0.9947, -0.3699, -1.6086,  ...,  0.1043,  0.8148, -0.1422],\n",
      "        ...,\n",
      "        [-0.2547,  0.6305, -1.2029,  ..., -0.5115, -2.7221, -0.0522],\n",
      "        [-0.2941, -0.1278,  0.2114,  ..., -0.5410, -2.1334, -0.2985],\n",
      "        [ 1.8878,  0.4411,  0.7302,  ...,  0.8559,  2.6896, -0.9066]],\n",
      "       device='cuda:0')\n",
      "True\n",
      "True\n",
      "CPU times: user 3.09 s, sys: 223 ms, total: 3.31 s\n",
      "Wall time: 3.31 s\n"
     ]
    }
   ],
   "source": [
    "%%time\n",
    "import torch\n",
    "import torch.nn as nn\n",
    "dev = torch.device(\"cuda:0\") if torch.cuda.is_available() else torch.device(\"cpu\")\n",
    "#dev = \"cpu\"\n",
    "t1 = torch.randn(1000,1000)\n",
    "t2 = torch.randn(1000,1000).to(dev)\n",
    "print(t1)  # tensor([[-0.2678,  1.9252]])\n",
    "print(t2)  # tensor([[ 0.5117, -3.6247]], device='cuda:0')\n",
    "t1.to(dev)\n",
    "print(t1)  # tensor([[-0.2678,  1.9252]])\n",
    "print(t1.is_cuda) # False\n",
    "t1 = t1.to(dev)\n",
    "print(t1)  # tensor([[-0.2678,  1.9252]], device='cuda:0')\n",
    "print(t1.is_cuda) # True\n",
    "\n",
    "class M(nn.Module):\n",
    "    def __init__(self):        \n",
    "        super().__init__()        \n",
    "        self.l1 = nn.Linear(1000,2)\n",
    "\n",
    "    def forward(self, x):                      \n",
    "        x = self.l1(x)\n",
    "        return x\n",
    "model = M()   # not on cuda\n",
    "model = model.to(dev) # is on cuda (all parameters)\n",
    "print(next(model.parameters()).is_cuda) # True\n",
    "\n",
    "for i in range(100000):\n",
    "    res = model.forward(t2)\n",
    "    #if i %100 ==0: print (res.is_cuda)"
   ]
  },
  {
   "cell_type": "code",
   "execution_count": 45,
   "id": "c40477a7-e74b-405a-aa71-8c7551a6cdd6",
   "metadata": {},
   "outputs": [],
   "source": [
    "res = ''\n",
    "model = ''\n",
    "ti=''\n",
    "torch.cuda.empty_cache()"
   ]
  },
  {
   "cell_type": "code",
   "execution_count": 46,
   "id": "fd60a62b-3656-4b1c-b2bb-61caa69eed6a",
   "metadata": {},
   "outputs": [
    {
     "data": {
      "text/plain": [
       "0"
      ]
     },
     "execution_count": 46,
     "metadata": {},
     "output_type": "execute_result"
    }
   ],
   "source": [
    "import gc\n",
    "gc.collect()"
   ]
  },
  {
   "cell_type": "code",
   "execution_count": null,
   "id": "984b8ecf-2ad6-4562-b7ba-6514250a3f49",
   "metadata": {},
   "outputs": [],
   "source": []
  }
 ],
 "metadata": {
  "kernelspec": {
   "display_name": "conda_pytorch_p39",
   "language": "python",
   "name": "conda_pytorch_p39"
  },
  "language_info": {
   "codemirror_mode": {
    "name": "ipython",
    "version": 3
   },
   "file_extension": ".py",
   "mimetype": "text/x-python",
   "name": "python",
   "nbconvert_exporter": "python",
   "pygments_lexer": "ipython3",
   "version": "3.9.15"
  }
 },
 "nbformat": 4,
 "nbformat_minor": 5
}
